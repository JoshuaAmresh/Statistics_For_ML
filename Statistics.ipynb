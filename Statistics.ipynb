{
 "cells": [
  {
   "cell_type": "markdown",
   "metadata": {},
   "source": [
    "### Central Limit Theorem"
   ]
  },
  {
   "cell_type": "markdown",
   "metadata": {},
   "source": [
    "- The fish breeding example: By taking sample means of the entire breeding farm tanks fishes, we can establish a mean and deviation and say that this will be the max growth of the fish. So that we can make the decision to wait for a while before selling a fish tank and measuring it's food supply\n",
    "\n",
    "- During election, karuthukanippu is another application of central limit theorem, which utilizes sample mean\n",
    "\n",
    "- Also as advised by Goura, when selecting features, make sure they follow central limit theorem, which according to me mean that the data distribution for the training and the prediction should be the same. Example, take the account tenure. I had some negative values, so for the training, the sample mean and S.D will be one. Whereas in the prod, there will be no negatives. So there the sample means and S.D will be different. So, avoid this type of errors in future projects. Always think about the same type of availability in prod while taking data for a feature"
   ]
  },
  {
   "cell_type": "markdown",
   "metadata": {},
   "source": [
    "### P Value"
   ]
  },
  {
   "cell_type": "markdown",
   "metadata": {},
   "source": [
    "<img src = 'P-Value.PNG'/>"
   ]
  },
  {
   "cell_type": "markdown",
   "metadata": {},
   "source": [
    "<img src = 'P-Value_Example.PNG'/>"
   ]
  },
  {
   "cell_type": "markdown",
   "metadata": {},
   "source": [
    "If the experiment we do yields a result which lies in the extreme ends of the tail and very far away from the mean, we reject the null hypothesis to be true and conclude that the coin experiment is not a fair coin. \n",
    "\n",
    "P-Value is also known as significance value"
   ]
  },
  {
   "cell_type": "markdown",
   "metadata": {},
   "source": [
    "### 5 Number Summary and IQR for outlier removal"
   ]
  },
  {
   "cell_type": "markdown",
   "metadata": {},
   "source": [
    "Below are the 5 number summary for any feature\n",
    "\n",
    "- minimum\n",
    "- 25th percentile (q1)\n",
    "- median\n",
    "- 75th percentile (q3)\n",
    "- maximum\n",
    "\n",
    "Using the above, IQR = Q3-Q1\n",
    "\n",
    "- lower bracket = Q1-1.5(IQR)\n",
    "- higher bracket = Q3+1.5(IQR)\n",
    "\n",
    "The points beyond lower and higher brackets are outliers and they can be removed\n",
    "\n",
    "Sample percentile formula: 25th percentile = (25/100) * (n+1) \n",
    "\n",
    "{the feature should be ordered in ascending...?}"
   ]
  },
  {
   "cell_type": "markdown",
   "metadata": {},
   "source": [
    "### Eucledean and Manhattan distance\n",
    "\n",
    "<img src = 'Eucledean_distance.PNG'/>\n",
    "\n",
    "<img src = 'Manhattan_distance.PNG'/>\n",
    "\n",
    "To see which distance works better, we try both as hyperparameters and see which works out better. This distance method is used in clustering to see which cluster the points belong to. Manhattan because city is designed in blocks, eucledean for air travel."
   ]
  },
  {
   "cell_type": "markdown",
   "metadata": {},
   "source": [
    "### Percentiles and Quantiles"
   ]
  },
  {
   "cell_type": "markdown",
   "metadata": {},
   "source": [
    "To obtain percentiles, first sort the distibution in ascending order and 50th percentile means 50% of values are lesser than that value which is the 50th percentile. Quantiles are just every quarter percentiles till 100\n",
    "\n",
    "<img src = 'Percentile_Quantile.PNG'/>"
   ]
  },
  {
   "cell_type": "markdown",
   "metadata": {},
   "source": [
    "### Confidence Interval"
   ]
  },
  {
   "cell_type": "markdown",
   "metadata": {},
   "source": [
    "<img src = 'Confidence_1.PNG'/>"
   ]
  },
  {
   "cell_type": "markdown",
   "metadata": {},
   "source": [
    "To estimate the confidence interval of mean, the first thing to be aware of is point estimate. The point estimate is nothing but the sample mean which can be used to estimate the population mean to some confidence extent. As seen in the pic above, if we calculate a confidence interval of 95% then that means we can say that the population mean will range between the higher and lower limit of the two tailed test where the two tails will have 2.5% probability each"
   ]
  },
  {
   "cell_type": "markdown",
   "metadata": {},
   "source": [
    "##### Interview Question: Find the average size of sharks in the sea\n",
    "\n",
    "This can be answered in two ways. Either using central limit theorem or confidence interval\n",
    "\n",
    "Under confidence interval, it can be solved in two ways. When population standard deviation is given and when it is not given"
   ]
  },
  {
   "cell_type": "markdown",
   "metadata": {},
   "source": [
    "<img src = 'Confidence_2.PNG'/>"
   ]
  },
  {
   "cell_type": "markdown",
   "metadata": {},
   "source": [
    "The above solution is on the scenario when the population standard deviation is given. We took a sample size n of 30 and it's mean (sample mean or point estimate) is 500. Using the CI formula as shown above we can calculate the confidence interval where the population mean will lie. On margin error, when population S.D is not given, we need to use t test instead of Z test. Alpha in margin error is nothing but the signifance value (p value). We are calculating with confidence interval of 95%. So the alpha we are taking as 5% which is margin of error. Z(0.025) is same as 1-0.025. As the total curve of distribution is 1, we use 1- as formula for Z(0.025). The result is 0.975, for which we use Z-table to get the value 1.96 from. In the Z-table the 0.975 is located inside the matrix and we use the border values to get the number 1.96. As a result to the interviewer, we can say that with a confidence interval of 95% the population mean will lie between 386 and 613."
   ]
  },
  {
   "cell_type": "code",
   "execution_count": null,
   "metadata": {},
   "outputs": [],
   "source": []
  }
 ],
 "metadata": {
  "kernelspec": {
   "display_name": "Python 3 (ipykernel)",
   "language": "python",
   "name": "python3"
  },
  "language_info": {
   "codemirror_mode": {
    "name": "ipython",
    "version": 3
   },
   "file_extension": ".py",
   "mimetype": "text/x-python",
   "name": "python",
   "nbconvert_exporter": "python",
   "pygments_lexer": "ipython3",
   "version": "3.9.7"
  }
 },
 "nbformat": 4,
 "nbformat_minor": 2
}
